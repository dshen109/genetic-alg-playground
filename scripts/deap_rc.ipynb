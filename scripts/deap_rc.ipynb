{
 "cells": [
  {
   "cell_type": "code",
   "execution_count": 1,
   "metadata": {},
   "outputs": [],
   "source": [
    "import sys\n",
    "sys.path.append('./optimizer')\n",
    "import optimizer.optimizer as optimizer\n",
    "from deap import creator, base, tools, algorithms\n"
   ]
  },
  {
   "cell_type": "code",
   "execution_count": 3,
   "metadata": {},
   "outputs": [],
   "source": [
    "opt = optimizer.RCOptimizer(C_matrix=None, D_matrix=None, training_data=None,\n",
    "                            validation_data=None, test_data=None, names=None,\n",
    "                            bounds={'foo': (-10, 5), 'bar': (-5, 7)})\n",
    "\n",
    "opt.toolbox.register('mate', optimizer.cxTwoPoint)\n",
    "opt.toolbox.register('mutate', optimizer.mutGaussian, mu=1, sigma=1, indpb=0.1)\n",
    "opt.toolbox.register('select', tools.selTournament, tournsize=3)\n",
    "\n",
    "population = opt.toolbox.population(n=100)"
   ]
  },
  {
   "cell_type": "code",
   "execution_count": 8,
   "metadata": {},
   "outputs": [],
   "source": [
    "NGEN=40\n",
    "for gen in range(NGEN):\n",
    "    offspring = algorithms.varAnd(population, opt.toolbox,\n",
    "                                  cxpb=0.01, mutpb=0.2)\n",
    "    population = opt.toolbox.select(offspring, k=len(population))\n",
    "top10 = tools.selBest(population, k=10)"
   ]
  },
  {
   "cell_type": "code",
   "execution_count": 9,
   "metadata": {},
   "outputs": [
    {
     "data": {
      "text/plain": [
       "[<optimizer.optimizer.Scenario at 0x7f800413d190>,\n",
       " <optimizer.optimizer.Scenario at 0x7f800413d190>,\n",
       " <optimizer.optimizer.Scenario at 0x7f800413f640>,\n",
       " <optimizer.optimizer.Scenario at 0x7f8004137550>,\n",
       " <optimizer.optimizer.Scenario at 0x7f800419fc70>,\n",
       " <optimizer.optimizer.Scenario at 0x7f800413c850>,\n",
       " <optimizer.optimizer.Scenario at 0x7f80041381f0>,\n",
       " <optimizer.optimizer.Scenario at 0x7f800413c850>,\n",
       " <optimizer.optimizer.Scenario at 0x7f8004126100>,\n",
       " <optimizer.optimizer.Scenario at 0x7f800413aa90>]"
      ]
     },
     "execution_count": 9,
     "metadata": {},
     "output_type": "execute_result"
    }
   ],
   "source": [
    "top10"
   ]
  },
  {
   "cell_type": "code",
   "execution_count": 10,
   "metadata": {},
   "outputs": [
    {
     "data": {
      "text/plain": [
       "[19.994330881424155,\n",
       " 19.994330881424155,\n",
       " 19.994330881424155,\n",
       " 19.994330881424155,\n",
       " 19.994330881424155,\n",
       " 19.994330881424155,\n",
       " 19.994330881424155,\n",
       " 19.994330881424155,\n",
       " 19.994330881424155,\n",
       " 19.994330881424155]"
      ]
     },
     "execution_count": 10,
     "metadata": {},
     "output_type": "execute_result"
    }
   ],
   "source": [
    "[sum(r.rc_vals.values()) for r in top10]"
   ]
  },
  {
   "cell_type": "code",
   "execution_count": 11,
   "metadata": {},
   "outputs": [
    {
     "data": {
      "text/plain": [
       "[{'bar': 11.489462807741477, 'foo': 8.504868073682676},\n",
       " {'bar': 11.489462807741477, 'foo': 8.504868073682676},\n",
       " {'bar': 11.489462807741477, 'foo': 8.504868073682676},\n",
       " {'bar': 11.489462807741477, 'foo': 8.504868073682676},\n",
       " {'bar': 11.489462807741477, 'foo': 8.504868073682676},\n",
       " {'bar': 11.489462807741477, 'foo': 8.504868073682676},\n",
       " {'bar': 11.489462807741477, 'foo': 8.504868073682676},\n",
       " {'bar': 11.489462807741477, 'foo': 8.504868073682676},\n",
       " {'bar': 11.489462807741477, 'foo': 8.504868073682676},\n",
       " {'bar': 11.489462807741477, 'foo': 8.504868073682676}]"
      ]
     },
     "execution_count": 11,
     "metadata": {},
     "output_type": "execute_result"
    }
   ],
   "source": [
    "[r.rc_vals for r in top10]"
   ]
  },
  {
   "cell_type": "code",
   "execution_count": 15,
   "metadata": {},
   "outputs": [
    {
     "data": {
      "text/plain": [
       "{'foo': (-10, 5), 'bar': (-5, 7)}"
      ]
     },
     "execution_count": 15,
     "metadata": {},
     "output_type": "execute_result"
    }
   ],
   "source": [
    "top10[0].rc_bounds"
   ]
  },
  {
   "cell_type": "code",
   "execution_count": 17,
   "metadata": {},
   "outputs": [
    {
     "data": {
      "text/plain": [
       "False"
      ]
     },
     "execution_count": 17,
     "metadata": {},
     "output_type": "execute_result"
    }
   ],
   "source": [
    "top10[0].rc_valid"
   ]
  },
  {
   "cell_type": "code",
   "execution_count": null,
   "metadata": {},
   "outputs": [],
   "source": []
  },
  {
   "cell_type": "code",
   "execution_count": null,
   "metadata": {},
   "outputs": [],
   "source": []
  }
 ],
 "metadata": {
  "kernelspec": {
   "display_name": "Python 3",
   "language": "python",
   "name": "python3"
  },
  "language_info": {
   "codemirror_mode": {
    "name": "ipython",
    "version": 3
   },
   "file_extension": ".py",
   "mimetype": "text/x-python",
   "name": "python",
   "nbconvert_exporter": "python",
   "pygments_lexer": "ipython3",
   "version": "3.8.5"
  }
 },
 "nbformat": 4,
 "nbformat_minor": 4
}