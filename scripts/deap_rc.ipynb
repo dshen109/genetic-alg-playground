{
 "cells": [
  {
   "cell_type": "code",
   "execution_count": 1,
   "metadata": {},
   "outputs": [],
   "source": [
    "import sys\n",
    "sys.path.append('./optimizer')\n",
    "import optimizer.optimizer as optimizer\n",
    "from deap import creator, base, tools, algorithms\n"
   ]
  },
  {
   "cell_type": "code",
   "execution_count": 2,
   "metadata": {
    "scrolled": true
   },
   "outputs": [
    {
     "name": "stdout",
     "output_type": "stream",
     "text": [
      "Help on class RCOptimizer in module optimizer.optimizer:\n",
      "\n",
      "class RCOptimizer(builtins.object)\n",
      " |  RCOptimizer(C_matrix, D_matrix, training_data, validation_data, test_data, names, bounds=None, n_individuals=100, generations=50, identifier=0)\n",
      " |  \n",
      " |  Optimize a RC circuit\n",
      " |  \n",
      " |  Methods defined here:\n",
      " |  \n",
      " |  __init__(self, C_matrix, D_matrix, training_data, validation_data, test_data, names, bounds=None, n_individuals=100, generations=50, identifier=0)\n",
      " |      Optimize a matrix of RC values.\n",
      " |      \n",
      " |      Assumes the governing equations are of the form `xdot = A x + B u`\n",
      " |      and `y = C xdot + D u`\n",
      " |      \n",
      " |      :param ndarray B_matrix:\n",
      " |      :param ndarray C_matrix:\n",
      " |      :param ndarray D_matrix:\n",
      " |      :param SimulationData training_data:\n",
      " |      :param SimulationData validation_data:\n",
      " |      :param SimulationData test_data:\n",
      " |      :param dict bounds: bounds for entries in the A matrix; should be\n",
      " |          with keys being the names of the R / C variables and\n",
      " |          values being a tuple of the lower & upper bounds\n",
      " |      :param dict names: Mapping of numerical R & C values to English names\n",
      " |      :param float timestep: Simulation timestep\n",
      " |      :param int identifier: ID for this optimization\n",
      " |  \n",
      " |  learn(self)\n",
      " |      Execute learning.\n",
      " |  \n",
      " |  register(self)\n",
      " |      Register functions with the DEAP toolbox.\n",
      " |  \n",
      " |  validate_bounds(self)\n",
      " |  \n",
      " |  ----------------------------------------------------------------------\n",
      " |  Class methods defined here:\n",
      " |  \n",
      " |  from_yaml(filepath) from builtins.type\n",
      " |      Instantiate from a yaml\n",
      " |  \n",
      " |  ----------------------------------------------------------------------\n",
      " |  Readonly properties defined here:\n",
      " |  \n",
      " |  individual_name\n",
      " |  \n",
      " |  ----------------------------------------------------------------------\n",
      " |  Data descriptors defined here:\n",
      " |  \n",
      " |  __dict__\n",
      " |      dictionary for instance variables (if defined)\n",
      " |  \n",
      " |  __weakref__\n",
      " |      list of weak references to the object (if defined)\n",
      "\n"
     ]
    }
   ],
   "source": [
    "help(optimizer.RCOptimizer)"
   ]
  },
  {
   "cell_type": "code",
   "execution_count": 3,
   "metadata": {},
   "outputs": [],
   "source": [
    "opt = optimizer.RCOptimizer(None, None, None, None, None, None,\n",
    "                            bounds={'foo': (-10, 5), 'bar': (-5, 7)})\n",
    "\n",
    "opt.toolbox.register('mate', optimizer.cxTwoPoint)\n",
    "opt.toolbox.register('mutate', optimizer.mutGaussian, mu=1, sigma=1, indpb=0.1)\n",
    "opt.toolbox.register('select', tools.selTournament, tournsize=3)\n",
    "\n",
    "population = opt.toolbox.population(n=100)"
   ]
  },
  {
   "cell_type": "code",
   "execution_count": 8,
   "metadata": {},
   "outputs": [],
   "source": [
    "NGEN=40\n",
    "for gen in range(NGEN):\n",
    "    offspring = algorithms.varAnd(population, opt.toolbox,\n",
    "                                  cxpb=0.01, mutpb=0.2)\n",
    "    population = opt.toolbox.select(offspring, k=len(population))\n",
    "top10 = tools.selBest(population, k=10)"
   ]
  },
  {
   "cell_type": "code",
   "execution_count": 9,
   "metadata": {},
   "outputs": [
    {
     "data": {
      "text/plain": [
       "[<optimizer.optimizer.Scenario at 0x7f800413d190>,\n",
       " <optimizer.optimizer.Scenario at 0x7f800413d190>,\n",
       " <optimizer.optimizer.Scenario at 0x7f800413f640>,\n",
       " <optimizer.optimizer.Scenario at 0x7f8004137550>,\n",
       " <optimizer.optimizer.Scenario at 0x7f800419fc70>,\n",
       " <optimizer.optimizer.Scenario at 0x7f800413c850>,\n",
       " <optimizer.optimizer.Scenario at 0x7f80041381f0>,\n",
       " <optimizer.optimizer.Scenario at 0x7f800413c850>,\n",
       " <optimizer.optimizer.Scenario at 0x7f8004126100>,\n",
       " <optimizer.optimizer.Scenario at 0x7f800413aa90>]"
      ]
     },
     "execution_count": 9,
     "metadata": {},
     "output_type": "execute_result"
    }
   ],
   "source": [
    "top10"
   ]
  },
  {
   "cell_type": "code",
   "execution_count": 10,
   "metadata": {},
   "outputs": [
    {
     "data": {
      "text/plain": [
       "[19.994330881424155,\n",
       " 19.994330881424155,\n",
       " 19.994330881424155,\n",
       " 19.994330881424155,\n",
       " 19.994330881424155,\n",
       " 19.994330881424155,\n",
       " 19.994330881424155,\n",
       " 19.994330881424155,\n",
       " 19.994330881424155,\n",
       " 19.994330881424155]"
      ]
     },
     "execution_count": 10,
     "metadata": {},
     "output_type": "execute_result"
    }
   ],
   "source": [
    "[sum(r.rc_vals.values()) for r in top10]"
   ]
  },
  {
   "cell_type": "code",
   "execution_count": 11,
   "metadata": {},
   "outputs": [
    {
     "data": {
      "text/plain": [
       "[{'bar': 11.489462807741477, 'foo': 8.504868073682676},\n",
       " {'bar': 11.489462807741477, 'foo': 8.504868073682676},\n",
       " {'bar': 11.489462807741477, 'foo': 8.504868073682676},\n",
       " {'bar': 11.489462807741477, 'foo': 8.504868073682676},\n",
       " {'bar': 11.489462807741477, 'foo': 8.504868073682676},\n",
       " {'bar': 11.489462807741477, 'foo': 8.504868073682676},\n",
       " {'bar': 11.489462807741477, 'foo': 8.504868073682676},\n",
       " {'bar': 11.489462807741477, 'foo': 8.504868073682676},\n",
       " {'bar': 11.489462807741477, 'foo': 8.504868073682676},\n",
       " {'bar': 11.489462807741477, 'foo': 8.504868073682676}]"
      ]
     },
     "execution_count": 11,
     "metadata": {},
     "output_type": "execute_result"
    }
   ],
   "source": [
    "[r.rc_vals for r in top10]"
   ]
  },
  {
   "cell_type": "code",
   "execution_count": 15,
   "metadata": {},
   "outputs": [
    {
     "data": {
      "text/plain": [
       "{'foo': (-10, 5), 'bar': (-5, 7)}"
      ]
     },
     "execution_count": 15,
     "metadata": {},
     "output_type": "execute_result"
    }
   ],
   "source": [
    "top10[0].rc_bounds"
   ]
  },
  {
   "cell_type": "code",
   "execution_count": 17,
   "metadata": {},
   "outputs": [
    {
     "data": {
      "text/plain": [
       "False"
      ]
     },
     "execution_count": 17,
     "metadata": {},
     "output_type": "execute_result"
    }
   ],
   "source": [
    "top10[0].rc_valid"
   ]
  },
  {
   "cell_type": "code",
   "execution_count": null,
   "metadata": {},
   "outputs": [],
   "source": []
  },
  {
   "cell_type": "code",
   "execution_count": null,
   "metadata": {},
   "outputs": [],
   "source": []
  }
 ],
 "metadata": {
  "kernelspec": {
   "display_name": "Python 3",
   "language": "python",
   "name": "python3"
  },
  "language_info": {
   "codemirror_mode": {
    "name": "ipython",
    "version": 3
   },
   "file_extension": ".py",
   "mimetype": "text/x-python",
   "name": "python",
   "nbconvert_exporter": "python",
   "pygments_lexer": "ipython3",
   "version": "3.8.5"
  }
 },
 "nbformat": 4,
 "nbformat_minor": 4
}
